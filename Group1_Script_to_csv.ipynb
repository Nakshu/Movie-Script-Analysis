{
 "cells": [
  {
   "cell_type": "code",
   "execution_count": 227,
   "id": "2e489e62",
   "metadata": {},
   "outputs": [
    {
     "name": "stdout",
     "output_type": "stream",
     "text": [
      "7789\n",
      "8283\n",
      "8284\n",
      "8285\n"
     ]
    }
   ],
   "source": [
    "import csv\n",
    "\n",
    "#Open Txt file\n",
    "script = open(\"/Users/pr472/Desktop/Masters/Fall-22/Data Acquisition and Pre-Processing/Final_Project/TWILIGHT.txt\", \"r\", encoding=\"ISO-8859-1\")\n",
    "\n",
    "text = script.read() #Read txt file\n",
    "lines = text.split('\\n') #Creating a list of lines by spliting text\n",
    "for line in lines:\n",
    "    if line == '':\n",
    "        lines.remove(line) # Removed extra spaces\n",
    "result_list = [] \n",
    "no_dial =[]\n",
    "Caps = ['A','B','C','D','E','F','G','H','I','J','K','L','M','N','O','P','Q','R','S','T','U','V','W','X','Y','Z'] \n",
    "nums = ['1','2','3','4','5','6','7','8','9','0'] #Since all the speakers are in Capitals\n",
    "for i in range(len(lines)):\n",
    "    try:\n",
    "        if (lines[i][-2] in Caps or lines[i][-1] in nums) and lines[i][-1] !=':' :\n",
    "            if 2 < len(lines[i][10:]) < 15:#if the end char of line is capital means it's a speaker\n",
    "                if lines[i+1][10:] != '' or lines[i+2][10:] != '':\n",
    "                    result = {\n",
    "                        \"speaker\": lines[i][10:], #took from 10: because first 10 char are just spaces\n",
    "                        \"dialogue\" : f'{lines[i+1][10:]} {lines[i+2][10:]}'\n",
    "                    }\n",
    "                    result_list.append(result) # Created a dictionary   \n",
    "                else:\n",
    "                    result = {\n",
    "                        \"speaker\": lines[i][10:], #took from 10: because first 10 char are just spaces\n",
    "                        \"dialogue\" : f'{lines[i+3][10:]} {lines[i+7][10:]}'\n",
    "                    }\n",
    "                    result_list.append(result) # Created a dictionary   \n",
    "            elif len(lines[i][10:]) >= 15 and (lines[i][10] in nums or 'EXT.' in lines[i]):\n",
    "                result = {\n",
    "                    \"speaker\": lines[i], #took from 10: because first 10 char are just spaces\n",
    "                    \"dialogue\" : 'Narration'\n",
    "                }\n",
    "                result_list.append(result)\n",
    "    except:\n",
    "        print(i)\n",
    "header = [\"speaker\",\"dialogue\"]\n",
    "\n",
    "with open('/Users/pr472/Desktop/Masters/Fall-22/Data Acquisition and Pre-Processing/Final_Project/TWILIGHT1.csv', 'w') as csvfile:\n",
    "    writer = csv.DictWriter(csvfile, fieldnames = header)\n",
    "    writer.writeheader()\n",
    "    writer.writerows(result_list) #saved into csv"
   ]
  },
  {
   "cell_type": "code",
   "execution_count": null,
   "id": "c763dc7f",
   "metadata": {},
   "outputs": [],
   "source": []
  }
 ],
 "metadata": {
  "kernelspec": {
   "display_name": "Python 3 (ipykernel)",
   "language": "python",
   "name": "python3"
  },
  "language_info": {
   "codemirror_mode": {
    "name": "ipython",
    "version": 3
   },
   "file_extension": ".py",
   "mimetype": "text/x-python",
   "name": "python",
   "nbconvert_exporter": "python",
   "pygments_lexer": "ipython3",
   "version": "3.9.7"
  }
 },
 "nbformat": 4,
 "nbformat_minor": 5
}
