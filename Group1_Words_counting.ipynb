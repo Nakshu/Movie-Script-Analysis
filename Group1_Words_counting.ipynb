{
 "cells": [
  {
   "cell_type": "code",
   "execution_count": 57,
   "id": "d8d87645",
   "metadata": {},
   "outputs": [
    {
     "data": {
      "image/png": "[encoded data removed]",
      "text/plain": [
       "<Figure size 432x288 with 1 Axes>"
      ]
     },
     "metadata": {
      "needs_background": "light"
     },
     "output_type": "display_data"
    }
   ],
   "source": [
    "# Importing required libraries\n",
    "\n",
    "import csv\n",
    "import matplotlib.pyplot as plt\n",
    "\n",
    "# Function using the csv module to read the contents of the scripts.csv file into a list of row-lists\n",
    " \n",
    "def load_scripts_csv(path_to_scripts):\n",
    "\n",
    "    twilight = []\n",
    "    file_reader = csv.reader(open(path_to_scripts,\"r\"))\n",
    "    for line in file_reader:\n",
    "        twilight.append(line)\n",
    "\n",
    "    \n",
    "    return twilight\n",
    "\n",
    "\n",
    "twilight = load_scripts_csv(\"/Users/pr472/Desktop/Masters/Fall-22/Data Acquisition and Pre-Processing/Final_Project/Final_TWILIGHT-senti.csv\")\n",
    "len(twilight), [(x[1], x[2]) for x in twilight[-19:]]\n",
    "\n",
    "# Collecting the data from the speaker column and load it into a list called speakers to complete the below function.\n",
    "\n",
    "def get_speakers(twilight):\n",
    "    speakers = []\n",
    "\n",
    "    \n",
    "    for row in twilight[1:]:\n",
    "        speakers.append(row[1])   \n",
    "    \n",
    "    \n",
    "    return speakers\n",
    "\n",
    "\n",
    "speakers = get_speakers(twilight)\n",
    "characters = set(speakers)\n",
    "len(characters), list(characters)[:25]\n",
    "\n",
    "# Function to count the dialogue entries for the ten main characters, using output from the get_speakers() function and a dictionary.\n",
    "\n",
    "def count_ten_main(speakers):\n",
    "    counts = {\n",
    "        \"BELLA\" : 0,\n",
    "        \"EDWARD\": 0,\n",
    "        \"CHARLIE\": 0,\n",
    "        \"DR. CULLEN\": 0,\n",
    "        \"JESSICA\": 0,\n",
    "        \"JAMES\": 0,\n",
    "        \"RENE\": 0,\n",
    "        \"ANGELA\": 0,\n",
    "        \"JACOB\": 0\n",
    "    }\n",
    "    for i in speakers:\n",
    "        if i in counts:\n",
    "            counts[i] +=1        \n",
    "            \n",
    "    return counts\n",
    "\n",
    "\n",
    "counts = count_ten_main(speakers)\n",
    "counts\n",
    "\n",
    "# Function is counting the number of words spoken by each of the main characters using a dictionary\n",
    "\n",
    "def count_words_spoken(twilight):\n",
    "    words_spoken = {\n",
    "        \"BELLA\" : 0,\n",
    "        \"EDWARD\": 0,\n",
    "        \"CHARLIE\": 0,\n",
    "        \"DR. CULLEN\": 0,\n",
    "        \"JESSICA\": 0,\n",
    "        \"JAMES\": 0,\n",
    "        \"RENE\": 0,\n",
    "        \"ANGELA\": 0,\n",
    "        \"JACOB\": 0\n",
    "    }\n",
    "\n",
    "    for i in twilight:\n",
    "        if i[1] in words_spoken:\n",
    "            words_spoken[i[1]] += len(i[2].split())         \n",
    "    \n",
    "    return words_spoken\n",
    "\n",
    "\n",
    "words_spoken = count_words_spoken(twilight)\n",
    "words_spoken\n",
    "\n",
    "\n",
    "plt.bar(list(words_spoken.keys()), words_spoken.values(), color=(0.2, 0.4, 0.6, 0.6))\n",
    "\n",
    "plt.tick_params(axis='x', labelsize=6.5)\n",
    "\n",
    "plt.show()\n"
   ]
  },
  {
   "cell_type": "code",
   "execution_count": null,
   "id": "e0cb75a0",
   "metadata": {},
   "outputs": [],
   "source": []
  }
 ],
 "metadata": {
  "kernelspec": {
   "display_name": "Python 3 (ipykernel)",
   "language": "python",
   "name": "python3"
  },
  "language_info": {
   "codemirror_mode": {
    "name": "ipython",
    "version": 3
   },
   "file_extension": ".py",
   "mimetype": "text/x-python",
   "name": "python",
   "nbconvert_exporter": "python",
   "pygments_lexer": "ipython3",
   "version": "3.9.7"
  }
 },
 "nbformat": 4,
 "nbformat_minor": 5
}
